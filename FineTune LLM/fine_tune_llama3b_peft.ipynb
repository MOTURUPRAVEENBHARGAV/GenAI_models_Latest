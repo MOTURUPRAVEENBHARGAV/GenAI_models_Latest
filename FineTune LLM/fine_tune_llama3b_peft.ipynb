{
 "cells": [
  {
   "cell_type": "markdown",
   "metadata": {},
   "source": [
    "### Install the below Libraries\n",
    "Reference Article: https://www.analyticsvidhya.com/blog/2024/12/fine-tuning-llama-3-2-3b-for-rag/, https://docs.unsloth.ai/get-started/installing-+-updating/pip-install, https://mer.vin/2024/02/unsloth-fine-tuning/\n",
    " - pip install torch==2.4.0 torchvision==0.19.0 torchaudio==2.4.0 --index-url https://download.pytorch.org/whl/cu121\n",
    " - pip install --upgrade pip\n",
    " - pip install \"unsloth[cu121-torch240] @ git+https://github.com/unslothai/unsloth.git\"\n",
    " "
   ]
  },
  {
   "cell_type": "markdown",
   "metadata": {},
   "source": []
  },
  {
   "cell_type": "code",
   "execution_count": 1,
   "metadata": {},
   "outputs": [],
   "source": [
    "import torch\n",
    "import re "
   ]
  },
  {
   "cell_type": "code",
   "execution_count": 2,
   "metadata": {},
   "outputs": [
    {
     "name": "stdout",
     "output_type": "stream",
     "text": [
      "2.4.0+cu121\n"
     ]
    }
   ],
   "source": [
    "print(torch.__version__)"
   ]
  },
  {
   "cell_type": "markdown",
   "metadata": {},
   "source": [
    "##### Notebooks: [https://www.youtube.com/watch?v=UWF6dxQYcbU&ab_channel=PromptEngineer, https://www.youtube.com/watch?v=Gpyukc6c0w8&ab_channel=MervinPraison, https://medium.com/@alexandros_chariton/how-to-fine-tune-llama-3-2-instruct-on-your-own-data-a-detailed-guide-e5f522f397d7]"
   ]
  },
  {
   "cell_type": "code",
   "execution_count": 3,
   "metadata": {},
   "outputs": [
    {
     "name": "stdout",
     "output_type": "stream",
     "text": [
      "🦥 Unsloth: Will patch your computer to enable 2x faster free finetuning.\n"
     ]
    },
    {
     "name": "stderr",
     "output_type": "stream",
     "text": [
      "e:\\PROJECTS\\env_llm_gpu\\lib\\site-packages\\tqdm\\auto.py:21: TqdmWarning: IProgress not found. Please update jupyter and ipywidgets. See https://ipywidgets.readthedocs.io/en/stable/user_install.html\n",
      "  from .autonotebook import tqdm as notebook_tqdm\n"
     ]
    },
    {
     "name": "stdout",
     "output_type": "stream",
     "text": [
      "🦥 Unsloth Zoo will now patch everything to make training faster!\n"
     ]
    }
   ],
   "source": [
    "from unsloth import FastLanguageModel, is_bfloat16_supported, train_on_responses_only\n",
    "\n",
    "from datasets import load_dataset, Dataset\n",
    "\n",
    "from trl import SFTTrainer, apply_chat_template\n",
    "\n",
    "from transformers import TrainingArguments, DataCollatorForSeq2Seq, TextStreamer\n",
    "import warnings\n",
    "warnings.filterwarnings(\"ignore\")\n",
    "\n",
    "import torch"
   ]
  },
  {
   "cell_type": "code",
   "execution_count": 4,
   "metadata": {},
   "outputs": [],
   "source": [
    "import xformers"
   ]
  },
  {
   "cell_type": "markdown",
   "metadata": {},
   "source": [
    "### Initialize the Model and Tokenizers\n",
    "\n",
    "- ##### More models at https://huggingface.co/unsloth\n"
   ]
  },
  {
   "cell_type": "code",
   "execution_count": 6,
   "metadata": {},
   "outputs": [
    {
     "name": "stdout",
     "output_type": "stream",
     "text": [
      "==((====))==  Unsloth 2025.1.7: Fast Llama patching. Transformers: 4.48.1.\n",
      "   \\\\   /|    GPU: NVIDIA GeForce RTX 4070 Laptop GPU. Max memory: 7.996 GB. Platform: Windows.\n",
      "O^O/ \\_/ \\    Torch: 2.4.0+cu121. CUDA: 8.9. CUDA Toolkit: 12.1. Triton: 3.1.0\n",
      "\\        /    Bfloat16 = TRUE. FA [Xformers = 0.0.27.post2. FA2 = False]\n",
      " \"-____-\"     Free Apache license: http://github.com/unslothai/unsloth\n",
      "Unsloth: Fast downloading is enabled - ignore downloading bars which are red colored!\n"
     ]
    }
   ],
   "source": [
    "max_seq_length = 2048 \n",
    "dtype = None # None for auto-detection.\n",
    "load_in_4bit = True # Use 4bit quantization to reduce memory usage. Can be False.\n",
    "\n",
    "model, tokenizer = FastLanguageModel.from_pretrained(\n",
    "\tmodel_name = \"unsloth/Llama-3.2-3B-Instruct\",\n",
    "\tmax_seq_length = max_seq_length,\n",
    "\tdtype = dtype,\n",
    "\tload_in_4bit = load_in_4bit,\n",
    "\t# token = \"hf_...\", # use if using gated models like meta-llama/Llama-3.2-11b\n",
    ")\n"
   ]
  },
  {
   "cell_type": "code",
   "execution_count": null,
   "metadata": {},
   "outputs": [],
   "source": [
    "# tokenizer"
   ]
  },
  {
   "cell_type": "markdown",
   "metadata": {},
   "source": [
    "### Initialize the Model for PEFT"
   ]
  },
  {
   "cell_type": "code",
   "execution_count": 7,
   "metadata": {},
   "outputs": [
    {
     "name": "stderr",
     "output_type": "stream",
     "text": [
      "Unsloth 2025.1.7 patched 28 layers with 28 QKV layers, 28 O layers and 28 MLP layers.\n"
     ]
    }
   ],
   "source": [
    "model = FastLanguageModel.get_peft_model(\n",
    "\tmodel,\n",
    "\tr = 16,\n",
    "\ttarget_modules = [\"q_proj\", \"k_proj\", \"v_proj\", \"o_proj\",\n",
    "                  \t\"gate_proj\", \"up_proj\", \"down_proj\",],\n",
    "\tlora_alpha = 16,\n",
    "\tlora_dropout = 0, \n",
    "\tbias = \"none\",\n",
    "\tuse_gradient_checkpointing = \"unsloth\",\n",
    "\trandom_state = 42,\n",
    "\tuse_rslora = False, \n",
    "\tloftq_config = None,\n",
    ")\n"
   ]
  },
  {
   "cell_type": "markdown",
   "metadata": {},
   "source": [
    "#### Description for Each Parameter\n",
    "- r: Rank of LoRA; higher values improve accuracy but use more memory (suggested: 8–128).  \n",
    "- target_modules: Modules to fine-tune; include all for better results \n",
    "- lora_alpha: Scaling factor; typically equal to or double the rank r.  \n",
    "- lora_dropout: Dropout rate; set to 0 for optimized and faster training.  \n",
    "- bias: Bias type; “none” is optimized for speed and minimal overfitting.  \n",
    "- use_gradient_checkpointing: Reduces memory for long-context training; “unsloth” is highly recommended.  \n",
    "- random_state: Seed for deterministic runs, ensuring reproducible results (e.g., 42).  \n",
    "- use_rslora: Automates alpha selection; useful for rank-stabilized LoRA.  \n",
    "- loftq_config: Initializes LoRA with top r singular vectors for better accuracy, though memory-intensive."
   ]
  },
  {
   "cell_type": "markdown",
   "metadata": {},
   "source": [
    "### Data Processing\n",
    "We will use the RAG data to finetune. Download the data from huggingface."
   ]
  },
  {
   "cell_type": "code",
   "execution_count": 8,
   "metadata": {},
   "outputs": [
    {
     "data": {
      "text/plain": [
       "Dataset({\n",
       "    features: ['context', 'question', 'answer'],\n",
       "    num_rows: 960\n",
       "})"
      ]
     },
     "execution_count": 8,
     "metadata": {},
     "output_type": "execute_result"
    }
   ],
   "source": [
    "dataset = load_dataset(\"neural-bridge/rag-dataset-1200\", split = \"train\")\n",
    "dataset"
   ]
  },
  {
   "cell_type": "code",
   "execution_count": 9,
   "metadata": {},
   "outputs": [
    {
     "data": {
      "text/plain": [
       "{'context': ['Francisco Rogers found the answer to a search query collar george herbert essay\\nLink ----> collar george herbert essay\\nWrite my essay ESSAYERUDITE.COM\\nconstitution research paper ideas\\ndefinition essay humility\\nbusiness strategy case study solution\\ncorporals course essay\\ndecisions in paradise essays\\ncollege essay word count\\ncredit cart terminal paper\\nbyron don juan essay\\ndemocratic party essays\\ncoursework language learning material teaching\\nchristmas commercialized essay\\ndahrendorf essays theory society\\nbuy apa format essay buy apa format essay\\nconan doyle speckled band essay\\ncollege essay application prompt\\ncolumbia university mfa creative writing acceptance rate\\ncrucible coursework questions\\ncollege essay topics texas\\ncover letter thesis proposal\\nciting ma thesis\\ncompare and contrast essays for elementary\\ncoursework completed without degree\\ncomparison islam christianity essay\\ncheerleading stereotypes essay\\ncultural diversity college essay\\ncritical thinking article analysis\\ncusat online thesis\\ncritical thinking problems for 2nd graders\\ncritical review of literature\\ndirty pretty things movie essay\\ndiscuss significance essay\\ndid king arthur exist essay\\nconfucius essay example\\ndescription of las vegas for essay\\ncover page for research paper\\ncommon app essay should have title\\ncreative writing colleges in north carolina\\ncritical essays on anthony burgess geoffrey aggeler\\ncatcher in the rye essays symbolism\\ncas reflective essay\\nclose reading essay\\ncan someone revise my essay\\nchild labour essays india\\ndevelopment business plan\\ndefinition essay of love\\nchinese dictionary\\ncite scientific research paper\\ncornell architecture thesis book\\ncomposition essay definition\\nca display cfm ethesis_id 1139\\nbusiness proposal format\\ncritical thinking skills activities for kindergarten\\ncatcher in the rye religion essay\\ncoursecompass com\\ndeath salesman tragedy essay questions\\ndignity of labour essay for children\\ncritical assessment definition\\ncomparison and contrast essay on high school and college\\nclass homework a pickett\\nbuffy the vampire slayer thesis\\ncustomer satisfaction essay\\nchildhood obesity argument essay\\ncauses of ww2 essay questions\\ncompare contrast essay introduction write\\ncopd case study nursing scribd\\ndiscussion essay format\\ncreative title for of mice and men essay\\ncompass writing essay practice test page\\ncollege short essay format\\ndifferences between personal narrative research paper\\ncompare contast essay',\n",
       "  'A few nights ago, my husband and I were watching an episode of Dragon\\'s Den, the Canadian version of Shark Tank, and a \"social good\" company was pitching their Haitian recycling program. It was a bad business concept poorly executed, but it didn\\'t justify one of the Dragons\\' responses, paraphrased below:\\nYou\\'re going about this the wrong way! You don\\'t create a social good business before you become profitable. You become profitable by whatever means necessary, and then you give back! That\\'s how business works.\\nNow, I\\'ll concede that there\\'s something to the idea that a business needs to be successful in order for a positive end to be achieved. But her response is not an unusual one in the business community, and more often than not, the American Sharks who invest in social enterprises also buy this \"the ends justifies the means\" argument. Put another way, business people as a rule - and no thanks to Capitalism - prioritize profit over social good. If some money can be thrown at a few noble causes at the end of the line, that\\'s great. But do what you have to do to thrive, even if that means exploitation.\\nIn an apparent attempt to combat that mindset, there are now hundreds of startup brands on the \"ethical\" market that use buzzwords like social enterprise, one-for-one, and give-back to describe themselves. One would presume by the marketing that being charitable makes a company ethical, and I\\'ve seen many ethical bloggers and influencers tout these brands as such, even when there\\'s very little data on their supply chain. But it begs the question: can a company really be ethical if workers are not provided a living wage, if they\\'re not working in a safe environment, and if no attention is paid to the sustainability of raw materials?\\nWhile give-back brands market themselves around the social good, how much good are they actually achieving? And is it enough?\\nCharitable small businesses believe that they are doing something different by placing a cause front and center in their marketing. But, on a practical level, if their supply chain isn\\'t in order, they may not be doing much more than a conventional business. They may be even worse.\\nAfter all, those big, nasty corporations their marketing subtly critiques do the same thing.\\nLarge corporations have a history of giving back. GE matches employees\\' charitable giving, Johnson & Johnson recently pledged 1 million dollars towards improving air quality around the world, and, since 2006, the BP Foundation has donated more than 218 million dollars to community initiatives around the country. Even Walmart, through its Foundation, awards grants and scholarships, and donates money in $200,000 lump sums to all sorts of relief efforts and deserving programs.\\nBeing charitable is not a new angle. You could probably make the case that it\\'s actually an engrained component of American enterprise, as fundamental as having a business plan. Americans really love charitable giving. In fact, in 2015 alone individual citizens and American businesses gave $373.25 billion dollars to charity.\\nYou can look at this from a couple of perspectives. On the one hand, it\\'s really nice to know that these hugely profitable enterprises are designating at least some of their profits to charitable giving. It\\'s certainly better than nothing, and for the recipients of these pledges, scholarships, and funds, it can be life changing.\\nBut it also makes it awfully convenient for these companies to never address problems in their supply chain - or even company culture within corporate offices - because as long as they claim they\\'re being responsible, they can practically get away with murder (but, more realistically, with gross negligence when it comes to their most vulnerable workers).\\nSo, when a nicely branded \"social enterprise\" tells me they give back, I have questions.\\nWhere are your raw materials sourced? Who makes your product? Where? What\\'s the wage? Have you visited your supplier? How did you choose your supplier, and why?\\nIf they can\\'t answer these questions with relative ease, something\\'s wrong.\\nIt\\'s not that charity is bad. Charity is very good, and comes from good human emotions like empathy, love, and maybe a bit of guilt. Charity is what\\'s needed in times of crisis - in famine, tsunami, and war.\\nBut charity is also a bandaid placed on broken systems.\\nCharities, by their nature, go where there is trouble. Uprising, corruption, colonialism, exploitation, bigotry, terror. No amount of external aid, even if given in love and good faith, can correct underlying systemic issues. Sometimes, charity makes things worse.\\nThe documentary, Poverty Inc., explores the ways in which charity has become big business, delaying permanent infrastructure and job development. In Haiti, NGOs are often so poorly managed that money simply vanishes, given to inefficient subcontractors or wasted on lavish homes.\\nAfter an earthquake devastated Haiti in 2010, Americans donated tens of millions of dollars to relief efforts. Haitian communities were inundated with donated rice, forcing local rice farmers to compete with free product, running many of them out of business. Meanwhile, an onslaught of solar panel donations threatened local alternative energy businesses. Even if individuals were helped in the short term, the local economy was now dependent on foreign aid to keep it afloat. Not only is this unsustainable, it\\'s unethical.\\nChange happens when marginalized communities are empowered to transform systems of oppression into systems of flourishing.\\nSocial good brands must realize that there are limits to charity, and that building a charitable business model without attention to the ethics of their supply chain or the long term efficacy of the nonprofits they support is both irresponsible and dangerous.\\nThe best possible world is one in which charity no longer needs to exist because people are able to provide for their families and their communities. It is a place where individuals are valued and not exploited. Where the root causes of injustice are addressed before they can spiral out of control.\\nCharity is only good now because it is necessary. But the world we should be working toward is one where people are far too important to ever be turned into charity cases, where we don\\'t get to feel good about giving.\\nWhere we get to claim that we\\'re good only when we know that everyone is being treated as the sacred beings they are.\\nIn the words of John Wesley:\\nDo all the good you can. By all the means you can. In all the ways you can. In all the places you can. At all the times you can. To all the people you can. As long as ever you can.\\nSo, businesses, by all means give to charity. But take it a step further by seriously scrutinizing your supply chain for the slightest sign of injustice and exploitation. Care about company culture. Care about the environment. Vet the charities you support. Treat others the way you\\'d like to be treated.\\nI originally covered this topic on my post on One-for-Ones. I\\'m hoping to do another post distinguishing between charity as a virtue versus \"charity, inc.\" soon.',\n",
       "  'Game Notes EDM vs BUF\\nBuffalo Sabres (Head Coach: Dan Bylsma) at Edmonton Oilers (Head Coach: Todd McLellan)\\nNHL Game #31, Rogers Place, 2016-10-16 05:00:00PM (GMT -0600)\\nSabres 6-2\\nReferees: Tim Peel, Brad Watson\\nLinesmen: Ryan Gibbons, Devin Berg\\nThree Stars: Ryan O’Reilly; Brian Gionta; Leon Draisaitl\\n- OK, look, I know we’re all disgusted at a big loss to a badly injured bottom feeder like Buffalo. But it’s important not to get overly caught up in the post facto narrative your brain is going to create as it looks through the lens of that putrid score.\\n- The truth is that the Oilers had a sh*t ton of great chances, and whiffed on a bunch of them. And the few they didn’t whiff on were mostly stopped.\\n- The Sabres on the other hand had fewer and less dangerous chances, but seemingly scored on all of them (and by my count, scored on three that weren’t really chances at all!)\\n- Make no mistake, these were two world-class tire fires going at it, and the Oilers have a lot to clean up, just as they did after the Flames victories. But the Sabres were by far the larger and stinkier of the two tire fires. Rewatch the game if you don’t believe me (I’m doing that right now to confirm my post game comments, and yes, it hurts a lot).\\n- The truth is, we see this kind of thing regularly – goaltending extremes will pretty much always override whatever happens with the rest of the team. What I mean by that is that great goaltending will overcome a huge deficit in play, and bad goaltending will torch a big advantage in play. And the latter is what happened tonight.\\n- What’s that old saying? “Goaltending is 50% of the game – unless you don’t have it, in which case it’s 100%”. Yup.\\n- On a side note, the reffing was horrific, as it always is when Tim Peel is soiling the ice with his presence. But that’s not why the Oilers lost.\\nGame at a Glance\\nLeaderboard\\n- Milan Lucic, Benoit Pouliot each had 1 goal\\n- Leon Draisaitl blasted 6 shots on goal\\n- Leon Draisaitl was most active on the team with 8 shot attempts\\n- Leon Draisaitl was the faceoff champ at 70.0% (7-3)\\n- Patrick Maroon, Jesse Puljujarvi drove shot attempts most with on-ice 5v5 CF% of 75.0\\n- Anton Lander trailed the team in 5v5 on-ice shot attempts at 50.0% (4-4)\\n- Milan Lucic was the big hitter with\\n(click image to embiggen)\\nForward Lines – Shots Taken\\n(click image to embiggen)\\nPlayer/Pair/Line – Head to Head – CF, DFF, TOI\\n(click any image to embiggen)\\nNHL Media Highlights\\nClick the link to play the associated highlight video\\nOkposo’s first goal with Sabres\\nLucic’s first goal as an Oiler\\nGionta’s tip-in goal\\nLehner’s point-blank save\\nGionta’s second goal of game\\nPouliot buries the rebound\\nO’Reilly’s power-play goal\\nTalbot’s great glove save\\nLehner’s strong kick save\\nO’Reilly’s goal from center ice\\nMoulson’s top-shelf goal\\nAdvertisements\\n4 thoughts on “G3 2016-10-16 Ermagerd, wournded Burffalo r darngerous!”\\nIn the third at 5 on 3 the point shot bounds off the boards and goes to six of net where Talbot pad stops it. This about the 6:50 mark.\\nPretty sure that puck goes in. Even worse for Talbots night.\\nI wonder, are you able to get that clip? Talbots glove hides where the puck is and he slips it out.\\nHmm, interesting. Let me take a look, I think I have a way to capture it as a clip if so\\nYeah, I think I see what you mean around 7:00 left. it’s certainly possible it might have been over the line, but as you say, it looks like Talbot’s glove is covering it so can’t be called anyway. Of course, officials have disallowed an Oiler goal where it was visibly over the line and not covered, so I wouldn’t put it past them to call a covered puck a goal against!'],\n",
       " 'question': ['Who found the answer to a search query collar george herbert essay?',\n",
       "  'What are some of the potential negative impacts of charity as discussed in the context?',\n",
       "  'Who were the three stars in the NHL game between Buffalo Sabres and Edmonton Oilers?'],\n",
       " 'answer': ['Francisco Rogers found the answer to a search query collar george herbert essay.',\n",
       "  'The context discusses that charity can sometimes exacerbate problems rather than solve them. It can delay permanent infrastructure and job development, and in some cases, it can lead to mismanagement of funds. The context also mentions the situation in Haiti where an influx of donated rice and solar panels disrupted local businesses, making the local economy dependent on foreign aid. This is described as unsustainable and unethical. Furthermore, charity can also allow companies to overlook problems in their supply chain or company culture, as they can claim responsibility through their charitable actions.',\n",
       "  'The three stars were Ryan O’Reilly, Brian Gionta, and Leon Draisaitl.']}"
      ]
     },
     "execution_count": 9,
     "metadata": {},
     "output_type": "execute_result"
    }
   ],
   "source": [
    "dataset[0:3]"
   ]
  },
  {
   "cell_type": "code",
   "execution_count": 10,
   "metadata": {},
   "outputs": [
    {
     "data": {
      "text/plain": [
       "{'context': 'Francisco Rogers found the answer to a search query collar george herbert essay\\nLink ----> collar george herbert essay\\nWrite my essay ESSAYERUDITE.COM\\nconstitution research paper ideas\\ndefinition essay humility\\nbusiness strategy case study solution\\ncorporals course essay\\ndecisions in paradise essays\\ncollege essay word count\\ncredit cart terminal paper\\nbyron don juan essay\\ndemocratic party essays\\ncoursework language learning material teaching\\nchristmas commercialized essay\\ndahrendorf essays theory society\\nbuy apa format essay buy apa format essay\\nconan doyle speckled band essay\\ncollege essay application prompt\\ncolumbia university mfa creative writing acceptance rate\\ncrucible coursework questions\\ncollege essay topics texas\\ncover letter thesis proposal\\nciting ma thesis\\ncompare and contrast essays for elementary\\ncoursework completed without degree\\ncomparison islam christianity essay\\ncheerleading stereotypes essay\\ncultural diversity college essay\\ncritical thinking article analysis\\ncusat online thesis\\ncritical thinking problems for 2nd graders\\ncritical review of literature\\ndirty pretty things movie essay\\ndiscuss significance essay\\ndid king arthur exist essay\\nconfucius essay example\\ndescription of las vegas for essay\\ncover page for research paper\\ncommon app essay should have title\\ncreative writing colleges in north carolina\\ncritical essays on anthony burgess geoffrey aggeler\\ncatcher in the rye essays symbolism\\ncas reflective essay\\nclose reading essay\\ncan someone revise my essay\\nchild labour essays india\\ndevelopment business plan\\ndefinition essay of love\\nchinese dictionary\\ncite scientific research paper\\ncornell architecture thesis book\\ncomposition essay definition\\nca display cfm ethesis_id 1139\\nbusiness proposal format\\ncritical thinking skills activities for kindergarten\\ncatcher in the rye religion essay\\ncoursecompass com\\ndeath salesman tragedy essay questions\\ndignity of labour essay for children\\ncritical assessment definition\\ncomparison and contrast essay on high school and college\\nclass homework a pickett\\nbuffy the vampire slayer thesis\\ncustomer satisfaction essay\\nchildhood obesity argument essay\\ncauses of ww2 essay questions\\ncompare contrast essay introduction write\\ncopd case study nursing scribd\\ndiscussion essay format\\ncreative title for of mice and men essay\\ncompass writing essay practice test page\\ncollege short essay format\\ndifferences between personal narrative research paper\\ncompare contast essay',\n",
       " 'question': 'Who found the answer to a search query collar george herbert essay?',\n",
       " 'answer': 'Francisco Rogers found the answer to a search query collar george herbert essay.'}"
      ]
     },
     "execution_count": 10,
     "metadata": {},
     "output_type": "execute_result"
    }
   ],
   "source": [
    "dataset[0]"
   ]
  },
  {
   "cell_type": "markdown",
   "metadata": {},
   "source": [
    "### The dataset has three keys as follows:\n",
    "\n",
    "Dataset({ features: [‘context’, ‘question’, ‘answer’], num_rows: 960 })\n",
    "\n",
    "The data needs to be in a specific format depending on the language model. Read more [details](https://huggingface.co/docs/trl/main/dataset_formats#converting-a-conversational-dataset-into-a-standard-dataset) here.\n",
    "\n",
    "So, let’s convert the data into the required format:"
   ]
  },
  {
   "cell_type": "code",
   "execution_count": 11,
   "metadata": {},
   "outputs": [],
   "source": [
    "def convert_dataset_to_dict(dataset):\n",
    "    dataset_dict = {\n",
    "        \"prompt\": [],\n",
    "        \"completion\": []\n",
    "    }\n",
    "\n",
    "    for row in dataset:\n",
    "        user_content = f\"Context: {row['context']}\\nQuestion: {row['question']}\"\n",
    "        assistant_content = row['answer']\n",
    "\n",
    "        dataset_dict[\"prompt\"].append([\n",
    "            {\"role\": \"user\", \"content\": user_content}\n",
    "        ])\n",
    "        dataset_dict[\"completion\"].append([\n",
    "            {\"role\": \"assistant\", \"content\": assistant_content}\n",
    "        ])\n",
    "    return dataset_dict\n",
    "    \n",
    "    \n",
    "converted_data = convert_dataset_to_dict(dataset)\n",
    "\n"
   ]
  },
  {
   "cell_type": "code",
   "execution_count": 12,
   "metadata": {},
   "outputs": [
    {
     "data": {
      "text/plain": [
       "[{'role': 'user',\n",
       "  'content': 'Context: Francisco Rogers found the answer to a search query collar george herbert essay\\nLink ----> collar george herbert essay\\nWrite my essay ESSAYERUDITE.COM\\nconstitution research paper ideas\\ndefinition essay humility\\nbusiness strategy case study solution\\ncorporals course essay\\ndecisions in paradise essays\\ncollege essay word count\\ncredit cart terminal paper\\nbyron don juan essay\\ndemocratic party essays\\ncoursework language learning material teaching\\nchristmas commercialized essay\\ndahrendorf essays theory society\\nbuy apa format essay buy apa format essay\\nconan doyle speckled band essay\\ncollege essay application prompt\\ncolumbia university mfa creative writing acceptance rate\\ncrucible coursework questions\\ncollege essay topics texas\\ncover letter thesis proposal\\nciting ma thesis\\ncompare and contrast essays for elementary\\ncoursework completed without degree\\ncomparison islam christianity essay\\ncheerleading stereotypes essay\\ncultural diversity college essay\\ncritical thinking article analysis\\ncusat online thesis\\ncritical thinking problems for 2nd graders\\ncritical review of literature\\ndirty pretty things movie essay\\ndiscuss significance essay\\ndid king arthur exist essay\\nconfucius essay example\\ndescription of las vegas for essay\\ncover page for research paper\\ncommon app essay should have title\\ncreative writing colleges in north carolina\\ncritical essays on anthony burgess geoffrey aggeler\\ncatcher in the rye essays symbolism\\ncas reflective essay\\nclose reading essay\\ncan someone revise my essay\\nchild labour essays india\\ndevelopment business plan\\ndefinition essay of love\\nchinese dictionary\\ncite scientific research paper\\ncornell architecture thesis book\\ncomposition essay definition\\nca display cfm ethesis_id 1139\\nbusiness proposal format\\ncritical thinking skills activities for kindergarten\\ncatcher in the rye religion essay\\ncoursecompass com\\ndeath salesman tragedy essay questions\\ndignity of labour essay for children\\ncritical assessment definition\\ncomparison and contrast essay on high school and college\\nclass homework a pickett\\nbuffy the vampire slayer thesis\\ncustomer satisfaction essay\\nchildhood obesity argument essay\\ncauses of ww2 essay questions\\ncompare contrast essay introduction write\\ncopd case study nursing scribd\\ndiscussion essay format\\ncreative title for of mice and men essay\\ncompass writing essay practice test page\\ncollege short essay format\\ndifferences between personal narrative research paper\\ncompare contast essay\\nQuestion: Who found the answer to a search query collar george herbert essay?'}]"
      ]
     },
     "execution_count": 12,
     "metadata": {},
     "output_type": "execute_result"
    }
   ],
   "source": [
    "converted_data[\"prompt\"][0]"
   ]
  },
  {
   "cell_type": "code",
   "execution_count": 13,
   "metadata": {},
   "outputs": [
    {
     "data": {
      "text/plain": [
       "[{'role': 'assistant',\n",
       "  'content': 'Francisco Rogers found the answer to a search query collar george herbert essay.'}]"
      ]
     },
     "execution_count": 13,
     "metadata": {},
     "output_type": "execute_result"
    }
   ],
   "source": [
    "converted_data[\"completion\"][0]"
   ]
  },
  {
   "cell_type": "code",
   "execution_count": 14,
   "metadata": {},
   "outputs": [
    {
     "data": {
      "text/plain": [
       "Dataset({\n",
       "    features: ['prompt', 'completion'],\n",
       "    num_rows: 960\n",
       "})"
      ]
     },
     "execution_count": 14,
     "metadata": {},
     "output_type": "execute_result"
    }
   ],
   "source": [
    "dataset = Dataset.from_dict(converted_data)\n",
    "dataset"
   ]
  },
  {
   "cell_type": "code",
   "execution_count": 15,
   "metadata": {},
   "outputs": [
    {
     "data": {
      "text/plain": [
       "{'prompt': [{'content': 'Context: Francisco Rogers found the answer to a search query collar george herbert essay\\nLink ----> collar george herbert essay\\nWrite my essay ESSAYERUDITE.COM\\nconstitution research paper ideas\\ndefinition essay humility\\nbusiness strategy case study solution\\ncorporals course essay\\ndecisions in paradise essays\\ncollege essay word count\\ncredit cart terminal paper\\nbyron don juan essay\\ndemocratic party essays\\ncoursework language learning material teaching\\nchristmas commercialized essay\\ndahrendorf essays theory society\\nbuy apa format essay buy apa format essay\\nconan doyle speckled band essay\\ncollege essay application prompt\\ncolumbia university mfa creative writing acceptance rate\\ncrucible coursework questions\\ncollege essay topics texas\\ncover letter thesis proposal\\nciting ma thesis\\ncompare and contrast essays for elementary\\ncoursework completed without degree\\ncomparison islam christianity essay\\ncheerleading stereotypes essay\\ncultural diversity college essay\\ncritical thinking article analysis\\ncusat online thesis\\ncritical thinking problems for 2nd graders\\ncritical review of literature\\ndirty pretty things movie essay\\ndiscuss significance essay\\ndid king arthur exist essay\\nconfucius essay example\\ndescription of las vegas for essay\\ncover page for research paper\\ncommon app essay should have title\\ncreative writing colleges in north carolina\\ncritical essays on anthony burgess geoffrey aggeler\\ncatcher in the rye essays symbolism\\ncas reflective essay\\nclose reading essay\\ncan someone revise my essay\\nchild labour essays india\\ndevelopment business plan\\ndefinition essay of love\\nchinese dictionary\\ncite scientific research paper\\ncornell architecture thesis book\\ncomposition essay definition\\nca display cfm ethesis_id 1139\\nbusiness proposal format\\ncritical thinking skills activities for kindergarten\\ncatcher in the rye religion essay\\ncoursecompass com\\ndeath salesman tragedy essay questions\\ndignity of labour essay for children\\ncritical assessment definition\\ncomparison and contrast essay on high school and college\\nclass homework a pickett\\nbuffy the vampire slayer thesis\\ncustomer satisfaction essay\\nchildhood obesity argument essay\\ncauses of ww2 essay questions\\ncompare contrast essay introduction write\\ncopd case study nursing scribd\\ndiscussion essay format\\ncreative title for of mice and men essay\\ncompass writing essay practice test page\\ncollege short essay format\\ndifferences between personal narrative research paper\\ncompare contast essay\\nQuestion: Who found the answer to a search query collar george herbert essay?',\n",
       "   'role': 'user'}],\n",
       " 'completion': [{'content': 'Francisco Rogers found the answer to a search query collar george herbert essay.',\n",
       "   'role': 'assistant'}]}"
      ]
     },
     "execution_count": 15,
     "metadata": {},
     "output_type": "execute_result"
    }
   ],
   "source": [
    "dataset[0]"
   ]
  },
  {
   "cell_type": "code",
   "execution_count": 16,
   "metadata": {},
   "outputs": [
    {
     "name": "stderr",
     "output_type": "stream",
     "text": [
      "Map: 100%|██████████| 960/960 [00:00<00:00, 7900.63 examples/s]\n"
     ]
    },
    {
     "data": {
      "text/plain": [
       "{'prompt': '<|begin_of_text|><|start_header_id|>system<|end_header_id|>\\n\\nCutting Knowledge Date: December 2023\\nToday Date: 26 Feb 2025\\n\\n<|eot_id|><|start_header_id|>user<|end_header_id|>\\n\\nContext: Francisco Rogers found the answer to a search query collar george herbert essay\\nLink ----> collar george herbert essay\\nWrite my essay ESSAYERUDITE.COM\\nconstitution research paper ideas\\ndefinition essay humility\\nbusiness strategy case study solution\\ncorporals course essay\\ndecisions in paradise essays\\ncollege essay word count\\ncredit cart terminal paper\\nbyron don juan essay\\ndemocratic party essays\\ncoursework language learning material teaching\\nchristmas commercialized essay\\ndahrendorf essays theory society\\nbuy apa format essay buy apa format essay\\nconan doyle speckled band essay\\ncollege essay application prompt\\ncolumbia university mfa creative writing acceptance rate\\ncrucible coursework questions\\ncollege essay topics texas\\ncover letter thesis proposal\\nciting ma thesis\\ncompare and contrast essays for elementary\\ncoursework completed without degree\\ncomparison islam christianity essay\\ncheerleading stereotypes essay\\ncultural diversity college essay\\ncritical thinking article analysis\\ncusat online thesis\\ncritical thinking problems for 2nd graders\\ncritical review of literature\\ndirty pretty things movie essay\\ndiscuss significance essay\\ndid king arthur exist essay\\nconfucius essay example\\ndescription of las vegas for essay\\ncover page for research paper\\ncommon app essay should have title\\ncreative writing colleges in north carolina\\ncritical essays on anthony burgess geoffrey aggeler\\ncatcher in the rye essays symbolism\\ncas reflective essay\\nclose reading essay\\ncan someone revise my essay\\nchild labour essays india\\ndevelopment business plan\\ndefinition essay of love\\nchinese dictionary\\ncite scientific research paper\\ncornell architecture thesis book\\ncomposition essay definition\\nca display cfm ethesis_id 1139\\nbusiness proposal format\\ncritical thinking skills activities for kindergarten\\ncatcher in the rye religion essay\\ncoursecompass com\\ndeath salesman tragedy essay questions\\ndignity of labour essay for children\\ncritical assessment definition\\ncomparison and contrast essay on high school and college\\nclass homework a pickett\\nbuffy the vampire slayer thesis\\ncustomer satisfaction essay\\nchildhood obesity argument essay\\ncauses of ww2 essay questions\\ncompare contrast essay introduction write\\ncopd case study nursing scribd\\ndiscussion essay format\\ncreative title for of mice and men essay\\ncompass writing essay practice test page\\ncollege short essay format\\ndifferences between personal narrative research paper\\ncompare contast essay\\nQuestion: Who found the answer to a search query collar george herbert essay?<|eot_id|><|start_header_id|>assistant<|end_header_id|>\\n\\n',\n",
       " 'completion': 'Francisco Rogers found the answer to a search query collar george herbert essay.<|eot_id|>'}"
      ]
     },
     "execution_count": 16,
     "metadata": {},
     "output_type": "execute_result"
    }
   ],
   "source": [
    "dataset = dataset.map(apply_chat_template, fn_kwargs={\"tokenizer\": tokenizer})\n",
    "dataset[0]\n",
    "# f= tokenizer.apply_chat_template(dataset, tokenize=False)"
   ]
  },
  {
   "cell_type": "code",
   "execution_count": 17,
   "metadata": {},
   "outputs": [
    {
     "name": "stdout",
     "output_type": "stream",
     "text": [
      "('<|begin_of_text|><|start_header_id|>system<|end_header_id|>\\n'\n",
      " '\\n'\n",
      " 'Cutting Knowledge Date: December 2023\\n'\n",
      " 'Today Date: 26 Feb 2025\\n'\n",
      " '\\n'\n",
      " '<|eot_id|><|start_header_id|>user<|end_header_id|>\\n'\n",
      " '\\n'\n",
      " 'Context: Wander round St Cézaire\\n'\n",
      " 'Explore the picturesque hilltop town, stop for a café au lait or a leisurely '\n",
      " 'lunch on the square, meet the locals playing boules, and soak up the '\n",
      " 'Provencal atmosphere.\\n'\n",
      " 'Follow the Siagne\\n'\n",
      " 'As well as exploring the attractive village of St Cézaire on your doorstep, '\n",
      " 'you could follow the river Siagne downstream to Auribeau, another pretty '\n",
      " 'village which clings to the hillside. The Siagne meets the Mediterranean '\n",
      " 'ocean at Mandelieu-la-Napoule, with its beach and marina, and a 14th century '\n",
      " 'fortified castle which was renovated in the 1920s by an eccentric American '\n",
      " 'couple - the sculptor husband renovated the interior whilst the architect '\n",
      " 'wife applied her talents to the gardens. The castle and gardens are open for '\n",
      " 'view every day, as well as hosting regular music and arts events.\\n'\n",
      " 'Grasse\\n'\n",
      " 'Grasse Cathedral, dedicated to Notre Dame du Puy and founded in the 11th '\n",
      " \"century, is the town's most notable landmark and contains three works by \"\n",
      " 'Rubens and one by Jean-Honoré Fragonard, a painter who came from Grasse. '\n",
      " 'Considered as the perfume capital of the world, scents waft from the '\n",
      " \"prolific boutiques around town selling fragrances from Grasse's established \"\n",
      " 'perfumeries.\\n'\n",
      " 'Hilltop villages\\n'\n",
      " 'Take your pick from several picturesque villages perchés in the region, so '\n",
      " 'called because they perch precariously on the hillside; Callian, Fayence, '\n",
      " \"Seillans and Mons would make a pretty circuit for a leisurely afternoon's \"\n",
      " 'drive.\\n'\n",
      " 'Lake Saint-Cassien\\n'\n",
      " 'Kayak and pedalo hire are available to explore the lake, but a drive around '\n",
      " 'is also very rewarding for its ever-changing views from different angles, '\n",
      " 'with the opportunity to stop off for lunch at a waterside restaurant en '\n",
      " 'route.\\n'\n",
      " 'For art lovers...\\n'\n",
      " '.... take a trip to nearby Mougins which has become a draw to both artists '\n",
      " 'and celebrities over the years. The artist Picasso also lived and painted '\n",
      " 'here with the tourist office once being his studio. There are now many '\n",
      " 'galleries to visit with the museum of classical art also being present.\\n'\n",
      " 'The Riviera\\n'\n",
      " 'The beaches, marinas and chic boutiques of the French Riviera are easily '\n",
      " \"accessible, around half an hour's drive away, with the nearest resort being \"\n",
      " 'Cannes-Mandelieu. The breaktaking scenic drive along the beautiful Estérel '\n",
      " 'coastline is also a must-do.\\n'\n",
      " 'The Verdon Gorge\\n'\n",
      " 'Head northwest into the Var region to see the spectacular gorge, 25km long '\n",
      " 'and 700 metres deep, formed by the Verdon river whose mineral deposits turn '\n",
      " 'it a startling turquoise. Take a day to drive around the hairpin bends above '\n",
      " 'the canyon, go walking or climbing in the National Park, or even hire kayaks '\n",
      " 'to explore the waterways.\\n'\n",
      " 'Hit Cannes!\\n'\n",
      " 'If you enjoy a bit of retail therapy whilst on holiday, drive down to the '\n",
      " \"shopaholic's mecca, Cannes, to seek out the designer labels. Combine with a \"\n",
      " 'spot of lunch at one of the many restaurants and a stroll along the famous '\n",
      " 'Croisette.\\n'\n",
      " 'Antibes makes for a lovely day out...\\n'\n",
      " 'It has lovely sandy beaches, great restaurants and ice creams shops, and an '\n",
      " 'attractive old quarter to wander round. There is also the port to explore, '\n",
      " 'and landmarks such as the Cathedral and the fortress. A big attraction in '\n",
      " 'the town is the Picasso Museum, which looks out over the sea and contains '\n",
      " 'not only paintings but ceramics and drawings by the great artist.\\n'\n",
      " 'Take cookery lessons\\n'\n",
      " 'at Les Apprentis Gourmets in Cannes. Learn to cook authentic cuisine '\n",
      " 'française!\\n'\n",
      " 'Monkeying around!\\n'\n",
      " \"'Canyon Forest' in Villeneuve-Loubet offers a treetop adventure course that \"\n",
      " 'kids (and energetic adults) will love, involving rope swings, nets, bridges '\n",
      " 'etc in the trees. Minimum age is 8 years old and minimum height 1.3m tall. '\n",
      " \"For smaller children, 'Pitchoun Forest' near Villeneuve-Loubet offers an \"\n",
      " 'easier course suitable for children as young as 3.\\n'\n",
      " 'Family day out\\n'\n",
      " 'Espace Marineland, just outside of Antibes, is a marine park with over 4000 '\n",
      " 'animals, including a tropical reef aquarium, a shark tunnel, polar bears and '\n",
      " 'penguins, and shows of sea lions, orcas and dolphins. On the same site, '\n",
      " 'there is also the Aquasplash water park, the ‘Far West’ theme park and '\n",
      " 'Adventure Golf. Plus plenty of play areas, picnic spots and restaurants.\\n'\n",
      " 'Venture to Nice\\n'\n",
      " \"The capital of the French Riviera, Nice, is about an hour's drive from this \"\n",
      " 'property. As well as offering a wealth of culinary delights at the many '\n",
      " 'restaurants and cafés that line the sun-soaked streets, this vibrant city is '\n",
      " 'a feast for the senses with its daily markets offering an abundance of '\n",
      " 'flowers, local produce and Provençal crafts. In addition, the city is a '\n",
      " 'must-visit for cultural enthusiasts, with over twenty museums and galleries, '\n",
      " 'and was home and inspiration to the world famous modernist artist Henri '\n",
      " 'Matisse for over 30 years.\\n'\n",
      " 'Have you visited Les Romarins?\\n'\n",
      " \"Click here to suggest a Great Thing you've done nearby ...\\n\"\n",
      " 'Question: What is the most notable landmark in the town of '\n",
      " 'Grasse?<|eot_id|><|start_header_id|>assistant<|end_header_id|>\\n'\n",
      " '\\n')\n"
     ]
    }
   ],
   "source": [
    "from pprint import pprint\n",
    "pprint(dataset[6][\"prompt\"])"
   ]
  },
  {
   "cell_type": "code",
   "execution_count": null,
   "metadata": {},
   "outputs": [],
   "source": []
  },
  {
   "cell_type": "markdown",
   "metadata": {},
   "source": [
    "### Setting-up the Trainer Parameters\n",
    "\n",
    "We can initialize the trainer for finetuning the SLM:\n",
    "\n"
   ]
  },
  {
   "cell_type": "code",
   "execution_count": 18,
   "metadata": {},
   "outputs": [
    {
     "name": "stderr",
     "output_type": "stream",
     "text": [
      "Map: 100%|██████████| 960/960 [00:00<00:00, 2668.27 examples/s]\n"
     ]
    }
   ],
   "source": [
    "trainer = SFTTrainer(\n",
    "\tmodel = model,\n",
    "\ttokenizer = tokenizer,\n",
    "\ttrain_dataset = dataset,\n",
    "\tmax_seq_length = max_seq_length,\n",
    "\tdata_collator = DataCollatorForSeq2Seq(tokenizer = tokenizer),\n",
    "\tdataset_num_proc = 1,\n",
    "\tpacking = False, # Can make training 5x faster for short sequences.\n",
    "\targs = TrainingArguments(\n",
    "    \tper_device_train_batch_size = 2,\n",
    "    \tgradient_accumulation_steps = 4,\n",
    "    \twarmup_steps = 5,\n",
    "    \t# num_train_epochs = 1, # Set this for 1 full training run.\n",
    "    \tmax_steps = 6, # using small number to test\n",
    "    \tlearning_rate = 2e-4,\n",
    "    \tfp16 = not is_bfloat16_supported(),\n",
    "    \tbf16 = is_bfloat16_supported(),\n",
    "    \tlogging_steps = 1,\n",
    "    \toptim = \"adamw_8bit\",\n",
    "    \tweight_decay = 0.01,\n",
    "    \tlr_scheduler_type = \"linear\",\n",
    "    \tseed = 3407,\n",
    "    \toutput_dir = \"outputs\",\n",
    "    \treport_to = \"none\", # Use this for WandB etc\n",
    "\t),\n",
    ")\n"
   ]
  },
  {
   "cell_type": "markdown",
   "metadata": {},
   "source": [
    "### Description of some of the parameters:\n",
    "\n",
    "- per_device_train_batch_size: Batch size per device; increase to utilize more GPU memory but watch for padding inefficiencies (suggested: 2).  \n",
    "- gradient_accumulation_steps: Simulates larger batch sizes without extra memory usage; increase for smoother loss curves (suggested: 4).  \n",
    "- max_steps: Total training steps; set for faster runs (e.g., 60), or use `num_train_epochs` for full dataset passes (e.g., 1–3).  \n",
    "- learning_rate: Controls training speed and convergence; lower rates (e.g., 2e-4) improve accuracy but slow training. "
   ]
  },
  {
   "cell_type": "code",
   "execution_count": 25,
   "metadata": {},
   "outputs": [
    {
     "name": "stdout",
     "output_type": "stream",
     "text": [
      "GPU = NVIDIA GeForce RTX 4070 Laptop GPU. Max memory = 7.996 GB.\n",
      "7.064 GB of memory reserved.\n"
     ]
    }
   ],
   "source": [
    "#@title Show current memory stats\n",
    "gpu_stats = torch.cuda.get_device_properties(0)\n",
    "start_gpu_memory = round(torch.cuda.max_memory_reserved() / 1024 / 1024 / 1024, 3)\n",
    "max_memory = round(gpu_stats.total_memory / 1024 / 1024 / 1024, 3)\n",
    "print(f\"GPU = {gpu_stats.name}. Max memory = {max_memory} GB.\")\n",
    "print(f\"{start_gpu_memory} GB of memory reserved.\")"
   ]
  },
  {
   "cell_type": "code",
   "execution_count": 20,
   "metadata": {},
   "outputs": [
    {
     "name": "stderr",
     "output_type": "stream",
     "text": [
      "Map: 100%|██████████| 960/960 [00:00<00:00, 2829.50 examples/s]\n"
     ]
    }
   ],
   "source": [
    "trainer = train_on_responses_only(\n",
    "\ttrainer,\n",
    "\tinstruction_part = \"<|start_header_id|>user<|end_header_id|>\\n\\n\",\n",
    "\tresponse_part = \"<|start_header_id|>assistant<|end_header_id|>\\n\\n\",\n",
    ")\n"
   ]
  },
  {
   "cell_type": "markdown",
   "metadata": {},
   "source": [
    "### Fine-tuning the Model"
   ]
  },
  {
   "cell_type": "code",
   "execution_count": 21,
   "metadata": {},
   "outputs": [
    {
     "name": "stderr",
     "output_type": "stream",
     "text": [
      "==((====))==  Unsloth - 2x faster free finetuning | Num GPUs = 1\n",
      "   \\\\   /|    Num examples = 960 | Num Epochs = 1\n",
      "O^O/ \\_/ \\    Batch size per device = 2 | Gradient Accumulation steps = 4\n",
      "\\        /    Total batch size = 8 | Total steps = 6\n",
      " \"-____-\"     Number of trainable parameters = 24,313,856\n"
     ]
    },
    {
     "data": {
      "text/html": [
       "\n",
       "    <div>\n",
       "      \n",
       "      <progress value='6' max='6' style='width:300px; height:20px; vertical-align: middle;'></progress>\n",
       "      [6/6 00:35, Epoch 0/1]\n",
       "    </div>\n",
       "    <table border=\"1\" class=\"dataframe\">\n",
       "  <thead>\n",
       " <tr style=\"text-align: left;\">\n",
       "      <th>Step</th>\n",
       "      <th>Training Loss</th>\n",
       "    </tr>\n",
       "  </thead>\n",
       "  <tbody>\n",
       "    <tr>\n",
       "      <td>1</td>\n",
       "      <td>1.486700</td>\n",
       "    </tr>\n",
       "    <tr>\n",
       "      <td>2</td>\n",
       "      <td>1.547400</td>\n",
       "    </tr>\n",
       "    <tr>\n",
       "      <td>3</td>\n",
       "      <td>1.076700</td>\n",
       "    </tr>\n",
       "    <tr>\n",
       "      <td>4</td>\n",
       "      <td>1.642800</td>\n",
       "    </tr>\n",
       "    <tr>\n",
       "      <td>5</td>\n",
       "      <td>1.042600</td>\n",
       "    </tr>\n",
       "    <tr>\n",
       "      <td>6</td>\n",
       "      <td>0.739700</td>\n",
       "    </tr>\n",
       "  </tbody>\n",
       "</table><p>"
      ],
      "text/plain": [
       "<IPython.core.display.HTML object>"
      ]
     },
     "metadata": {},
     "output_type": "display_data"
    }
   ],
   "source": [
    "trainer_stats = trainer.train()"
   ]
  },
  {
   "cell_type": "markdown",
   "metadata": {},
   "source": [
    "Refer this to {[URL](https://docs.unsloth.ai/get-started/installing-+-updating/windows-installation)} for further queries on installation"
   ]
  },
  {
   "cell_type": "markdown",
   "metadata": {},
   "source": [
    "### Test and Save the Model"
   ]
  },
  {
   "cell_type": "markdown",
   "metadata": {},
   "source": [
    "Let’s use the model for inference:"
   ]
  },
  {
   "cell_type": "code",
   "execution_count": 23,
   "metadata": {},
   "outputs": [
    {
     "name": "stderr",
     "output_type": "stream",
     "text": [
      "The attention mask is not set and cannot be inferred from input because pad token is same as eos token. As a consequence, you may observe unexpected behavior. Please pass your input's `attention_mask` to obtain reliable results.\n"
     ]
    },
    {
     "name": "stdout",
     "output_type": "stream",
     "text": [
      "The water can be various colors, including blue, green, and others, depending on its clarity, depth, and surrounding environment.\n",
      "\n",
      "Some examples of colored water include:\n",
      "\n",
      "1. Ocean water: It is typically blue due to a phenomenon called scattering, where shorter (blue) wavelengths of light are scattered more than longer (red) wavelengths, giving the appearance of blue water.\n",
      "\n",
      "2. Lake water: In clear lakes, the water may appear blue or blue-green, depending on its clarity and depth. In more turbid or clouded lakes, it might appear green or brown.\n",
      "\n",
      "3. River water: River water is often a mix of brown\n"
     ]
    }
   ],
   "source": [
    "FastLanguageModel.for_inference(model)\n",
    "\n",
    "messages = [\n",
    "\t{\"role\": \"user\", \"content\": \"Context: The sky is typically clear during the day. Question: What color is the water?\"},\n",
    "]\n",
    "inputs = tokenizer.apply_chat_template(\n",
    "\tmessages,\n",
    "\ttokenize = True,\n",
    "\tadd_generation_prompt = True,\n",
    "\treturn_tensors = \"pt\",\n",
    ").to(\"cuda\")\n",
    "\n",
    "text_streamer = TextStreamer(tokenizer, skip_prompt = True)\n",
    "_ = model.generate(input_ids = inputs, streamer = text_streamer, max_new_tokens = 128,\n",
    "               \tuse_cache = True, temperature = 1.5, min_p = 0.1)\n"
   ]
  },
  {
   "cell_type": "markdown",
   "metadata": {},
   "source": [
    "To save the trained including LoRA weights, use the below code "
   ]
  },
  {
   "cell_type": "code",
   "execution_count": 24,
   "metadata": {},
   "outputs": [
    {
     "name": "stdout",
     "output_type": "stream",
     "text": [
      "Unsloth: Merging 4bit and LoRA weights to 16bit...\n",
      "Unsloth: Will use up to 8.83 out of 31.71 RAM for saving.\n",
      "Unsloth: Saving model... This might take 5 minutes ...\n"
     ]
    },
    {
     "name": "stderr",
     "output_type": "stream",
     "text": [
      " 61%|██████    | 17/28 [00:00<00:00, 27.93it/s]\n",
      "We will save to Disk and not RAM now.\n",
      "100%|██████████| 28/28 [00:03<00:00,  7.59it/s]\n"
     ]
    },
    {
     "name": "stdout",
     "output_type": "stream",
     "text": [
      "Unsloth: Saving tokenizer... Done.\n",
      "Done.\n"
     ]
    }
   ],
   "source": [
    "model.save_pretrained_merged(\"model\", tokenizer, save_method = \"merged_16bit\")\n"
   ]
  },
  {
   "cell_type": "markdown",
   "metadata": {},
   "source": [
    "### Conclusion\n",
    "Fine-tuning Llama 3.2 3B for RAG tasks showcases the efficiency of smaller models in delivering high performance with reduced computational costs. Techniques like LoRA optimize resource usage while maintaining accuracy. This approach empowers domain-specific applications, making advanced AI more accessible, scalable, and cost-effective, driving innovation in retrieval-augmented generation and democratizing AI for real-world challenges."
   ]
  },
  {
   "cell_type": "code",
   "execution_count": null,
   "metadata": {},
   "outputs": [],
   "source": []
  }
 ],
 "metadata": {
  "kernelspec": {
   "display_name": "env_llm_gpu",
   "language": "python",
   "name": "python3"
  },
  "language_info": {
   "codemirror_mode": {
    "name": "ipython",
    "version": 3
   },
   "file_extension": ".py",
   "mimetype": "text/x-python",
   "name": "python",
   "nbconvert_exporter": "python",
   "pygments_lexer": "ipython3",
   "version": "3.10.11"
  }
 },
 "nbformat": 4,
 "nbformat_minor": 2
}
